{
 "cells": [
  {
   "cell_type": "markdown",
   "metadata": {},
   "source": [
    "Code for Pushing and pulling"
   ]
  },
  {
   "cell_type": "code",
   "execution_count": 1,
   "metadata": {
    "vscode": {
     "languageId": "powershell"
    }
   },
   "outputs": [
    {
     "ename": "SyntaxError",
     "evalue": "invalid character '’' (U+2019) (486904400.py, line 2)",
     "output_type": "error",
     "traceback": [
      "\u001b[1;36m  Cell \u001b[1;32mIn[1], line 2\u001b[1;36m\u001b[0m\n\u001b[1;33m    git commit -m ’Implementing Task n’\u001b[0m\n\u001b[1;37m                  ^\u001b[0m\n\u001b[1;31mSyntaxError\u001b[0m\u001b[1;31m:\u001b[0m invalid character '’' (U+2019)\n"
     ]
    }
   ],
   "source": [
    "git add assignment_1_David_Velasco.ipynb\n",
    "git commit -m ’Implementing Task n’\n",
    "git pull\n",
    "git push"
   ]
  },
  {
   "cell_type": "markdown",
   "metadata": {},
   "source": [
    "### Task 1: Data Loading and Initial Exploration\n",
    "\n",
    "Lecture material: Lecture 3, slides 4–8, 10, and 11.\n",
    "\n",
    "- Load the dataset into a Pandas DataFrame.\n",
    "- Perform basic exploratory data analysis (EDA) to comprehend the structure and characteristics of the data.\n",
    "\n",
    "Note: Your analysis should include appropriate exploratory statistics and visualizations."
   ]
  },
  {
   "cell_type": "code",
   "execution_count": null,
   "metadata": {
    "vscode": {
     "languageId": "powershell"
    }
   },
   "outputs": [],
   "source": []
  },
  {
   "cell_type": "markdown",
   "metadata": {},
   "source": [
    "### Task 2: Managing Missing Values\n",
    "\n",
    "Lecture Material: Lecture 3, slides 22–24.\n",
    "\n",
    "- Identify the columns containing missing values.\n",
    "- Develop a strategy to address them.\n"
   ]
  },
  {
   "cell_type": "code",
   "execution_count": null,
   "metadata": {
    "vscode": {
     "languageId": "powershell"
    }
   },
   "outputs": [],
   "source": []
  },
  {
   "cell_type": "markdown",
   "metadata": {},
   "source": [
    "### Task 3: Encoding Categorical Variables\n",
    "\n",
    "Lecture material: Lecture 4, slides 10–15, 21.\n",
    "\n",
    "- Identify the categorical variables in the dataset.\n",
    "- Utilize OneHotEncoder to encode them.\n",
    "- Observe the transformation and discuss its impact on machine learning models.\n"
   ]
  },
  {
   "cell_type": "code",
   "execution_count": null,
   "metadata": {
    "vscode": {
     "languageId": "powershell"
    }
   },
   "outputs": [],
   "source": []
  },
  {
   "cell_type": "markdown",
   "metadata": {},
   "source": [
    "### Task 4: Feature Scaling\n",
    "\n",
    "Lecture material: Lecture 5, slides 14–20.\n",
    "\n",
    "- Standardize the numerical variables using StandardScaler.\n",
    "- Normalize the numerical variables using MinMaxScaler.\n",
    "- Discuss the differences between standardization and normalization, along with their importance.\n",
    "\n"
   ]
  },
  {
   "cell_type": "code",
   "execution_count": null,
   "metadata": {
    "vscode": {
     "languageId": "powershell"
    }
   },
   "outputs": [],
   "source": []
  },
  {
   "cell_type": "markdown",
   "metadata": {},
   "source": [
    "### Task 5: Data Splitting\n",
    "\n",
    "Lecture material: Lecture 2, slides 4–7.\n",
    "\n",
    "- Split the dataset into training, validation, and test sets.\n",
    "- Ensure that the split reflects the original distribution of the target variable using stratification.\n",
    "\n",
    "**Note**: a good strategy is to first split the dataset into ‘training’ and ‘others’, and then split ‘others’ into equally sized ‘validation’ and ‘test’ sets. When splitting sets, consider the argument stratify of the train test split\n",
    "method.\n"
   ]
  },
  {
   "cell_type": "code",
   "execution_count": null,
   "metadata": {
    "vscode": {
     "languageId": "powershell"
    }
   },
   "outputs": [],
   "source": []
  },
  {
   "cell_type": "markdown",
   "metadata": {},
   "source": [
    "### Task 6: Addressing Class Imbalance\n",
    "\n",
    "Lecture material: Lecture 3, slides 25–27; Lecture 4, slides 4–5.\n",
    "\n",
    "- Apply a method to address class imbalance (e.g., Oversampling Technique (SMOTE), Adaptive Synthetic\n",
    "Sampling Method (ADASYN)).\n",
    "\n",
    "**Note**: You can load a SMOTE and/or ADASYN implementation from the Python module imblearn.\n"
   ]
  },
  {
   "cell_type": "code",
   "execution_count": null,
   "metadata": {
    "vscode": {
     "languageId": "powershell"
    }
   },
   "outputs": [],
   "source": []
  },
  {
   "cell_type": "markdown",
   "metadata": {},
   "source": [
    "### Task 7: Feature Selection\n",
    "\n",
    "Lecture material: Lecture 5, slides 10–14, 19.\n",
    "\n",
    "- Eliminate low variance and highly correlated features.\n",
    "- Why do we carry out tasks 6 and 7 after splitting the dataset into training, validation, and test sets? Could\n",
    "we have conducted them on the entire dataset instead? Please elaborate on your answer.\n"
   ]
  },
  {
   "cell_type": "code",
   "execution_count": null,
   "metadata": {
    "vscode": {
     "languageId": "powershell"
    }
   },
   "outputs": [],
   "source": []
  },
  {
   "cell_type": "markdown",
   "metadata": {},
   "source": [
    "### Task 8: Training a Logistic Regression Model\n",
    "\n",
    "Lecture material: Lecture 6, slides 5–9.\n",
    "\n",
    "- Train a Logistic Regression Model to predict whether a passenger survives.\n",
    "\n",
    "**Note**: Use the method predict from the class LogisticRegression with the validation set. Have fun finding\n",
    "a visually appealing way to display the results of the predictions on the validation set. An analysis of model\n",
    "performance is not required and will not affect your final grade for the assignment. However, I won’t stop you from\n",
    "including it. "
   ]
  },
  {
   "cell_type": "code",
   "execution_count": null,
   "metadata": {
    "vscode": {
     "languageId": "powershell"
    }
   },
   "outputs": [],
   "source": []
  }
 ],
 "metadata": {
  "kernelspec": {
   "display_name": "Python 3",
   "language": "python",
   "name": "python3"
  },
  "language_info": {
   "codemirror_mode": {
    "name": "ipython",
    "version": 3
   },
   "file_extension": ".py",
   "mimetype": "text/x-python",
   "name": "python",
   "nbconvert_exporter": "python",
   "pygments_lexer": "ipython3",
   "version": "3.10.6"
  }
 },
 "nbformat": 4,
 "nbformat_minor": 2
}
